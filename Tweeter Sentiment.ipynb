{
 "cells": [
  {
   "cell_type": "code",
   "execution_count": 1,
   "metadata": {},
   "outputs": [],
   "source": [
    "import tweepy\n",
    "import textblob\n",
    "# importing the NLP(Natural Language Processing) library\n",
    "from textblob import TextBlob\n",
    "\n",
    "# Setting the credentials to twitter API:\n",
    "# Register on twitter to get your own Key:\n",
    "\n",
    "consumer_key = ''\n",
    "consumer_secret = 'Y'\n",
    "\n",
    "access_token = 'Z'\n",
    "access_token_secret = 'L'\n",
    "# Authorising the API to acces the credentials and the Platform:\n",
    "\n",
    "auth = tweepy.OAuthHandler(consumer_key, consumer_secret)\n",
    "auth.set_access_token(access_token, access_token_secret)"
   ]
  },
  {
   "cell_type": "code",
   "execution_count": null,
   "metadata": {},
   "outputs": [],
   "source": []
  }
 ],
 "metadata": {
  "kernelspec": {
   "display_name": "Python 3",
   "language": "python",
   "name": "python3"
  },
  "language_info": {
   "codemirror_mode": {
    "name": "ipython",
    "version": 3
   },
   "file_extension": ".py",
   "mimetype": "text/x-python",
   "name": "python",
   "nbconvert_exporter": "python",
   "pygments_lexer": "ipython3",
   "version": "3.8.3"
  }
 },
 "nbformat": 4,
 "nbformat_minor": 4
}
