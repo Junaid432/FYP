{
 "cells": [
  {
   "cell_type": "code",
   "execution_count": 1,
   "metadata": {},
   "outputs": [],
   "source": [
    "import nltk\n",
    "from nltk.tokenize import word_tokenize,sent_tokenize\n",
    "\n",
    "from nltk.stem import PorterStemmer\n",
    "from nltk.corpus import stopwords"
   ]
  },
  {
   "cell_type": "code",
   "execution_count": 2,
   "metadata": {},
   "outputs": [],
   "source": [
    "text=\"\"\"I have three visions for India. In 3000 years of our history, people from all over \n",
    "               the world have come and invaded us, captured our lands, conquered our minds. \n",
    "               From Alexander onwards, the Greeks, the Turks, the Moguls, the Portuguese, the British,\n",
    "               the French, the Dutch, all of them came and looted us, took over what was ours. \n",
    "               Yet we have not done this to any other nation. We have not conquered anyone. \n",
    "               We have not grabbed their land, their culture, \n",
    "               their history and tried to enforce our way of life on them. \n",
    "               Why? Because we respect the freedom of others.That is why my \n",
    "               first vision is that of freedom. I believe that India got its first vision of \n",
    "               this in 1857, when we started the War of Independence. It is this freedom that\n",
    "               we must protect and nurture and build on. If we are not free, no one will respect us.\n",
    "               My second vision for India’s development. For fifty years we have been a developing nation.\n",
    "               It is time we see ourselves as a developed nation. We are among the top 5 nations of the world\n",
    "               in terms of GDP.\"\"\""
   ]
  },
  {
   "cell_type": "code",
   "execution_count": 3,
   "metadata": {},
   "outputs": [
    {
     "name": "stdout",
     "output_type": "stream",
     "text": [
      "['I', 'three', 'visions', 'India', '.', 'In', '3000', 'years', 'history', ',', 'people', 'world', 'come', 'invaded', 'us', ',', 'captured', 'lands', ',', 'conquered', 'minds', '.', 'From', 'Alexander', 'onwards', ',', 'Greeks', ',', 'Turks', ',', 'Moguls', ',', 'Portuguese', ',', 'British', ',', 'French', ',', 'Dutch', ',', 'came', 'looted', 'us', ',', 'took', '.', 'Yet', 'done', 'nation', '.', 'We', 'conquered', 'anyone', '.', 'We', 'grabbed', 'land', ',', 'culture', ',', 'history', 'tried', 'enforce', 'way', 'life', '.', 'Why', '?', 'Because', 'respect', 'freedom', 'others.That', 'first', 'vision', 'freedom', '.', 'I', 'believe', 'India', 'got', 'first', 'vision', '1857', ',', 'started', 'War', 'Independence', '.', 'It', 'freedom', 'must', 'protect', 'nurture', 'build', '.', 'If', 'free', ',', 'one', 'respect', 'us', '.', 'My', 'second', 'vision', 'India', '’', 'development', '.', 'For', 'fifty', 'years', 'developing', 'nation', '.', 'It', 'time', 'see', 'developed', 'nation', '.', 'We', 'among', 'top', '5', 'nations', 'world', 'terms', 'GDP', '.']\n"
     ]
    }
   ],
   "source": [
    "stopword_list=set(stopwords.words('english'))\n",
    "wordtoken=word_tokenize(text)\n",
    "filterwords = []\n",
    "for word in  wordtoken:\n",
    "    if word not in stopword_list:\n",
    "        filterwords.append(word)\n",
    "print(filterwords)        "
   ]
  },
  {
   "cell_type": "code",
   "execution_count": 4,
   "metadata": {},
   "outputs": [
    {
     "name": "stdout",
     "output_type": "stream",
     "text": [
      "['I', 'three', 'vision', 'india', '.', 'In', '3000', 'year', 'histori', ',', 'peopl', 'world', 'come', 'invad', 'us', ',', 'captur', 'land', ',', 'conquer', 'mind', '.', 'from', 'alexand', 'onward', ',', 'greek', ',', 'turk', ',', 'mogul', ',', 'portugues', ',', 'british', ',', 'french', ',', 'dutch', ',', 'came', 'loot', 'us', ',', 'took', '.', 'yet', 'done', 'nation', '.', 'We', 'conquer', 'anyon', '.', 'We', 'grab', 'land', ',', 'cultur', ',', 'histori', 'tri', 'enforc', 'way', 'life', '.', 'whi', '?', 'becaus', 'respect', 'freedom', 'others.that', 'first', 'vision', 'freedom', '.', 'I', 'believ', 'india', 'got', 'first', 'vision', '1857', ',', 'start', 'war', 'independ', '.', 'It', 'freedom', 'must', 'protect', 'nurtur', 'build', '.', 'If', 'free', ',', 'one', 'respect', 'us', '.', 'My', 'second', 'vision', 'india', '’', 'develop', '.', 'for', 'fifti', 'year', 'develop', 'nation', '.', 'It', 'time', 'see', 'develop', 'nation', '.', 'We', 'among', 'top', '5', 'nation', 'world', 'term', 'gdp', '.']\n"
     ]
    }
   ],
   "source": [
    "stemmer=PorterStemmer()\n",
    "words = [stemmer.stem(word) for word in wordtoken if word not in stopword_list]\n",
    "print(words)\n"
   ]
  },
  {
   "cell_type": "code",
   "execution_count": null,
   "metadata": {},
   "outputs": [],
   "source": []
  }
 ],
 "metadata": {
  "kernelspec": {
   "display_name": "Python 3",
   "language": "python",
   "name": "python3"
  },
  "language_info": {
   "codemirror_mode": {
    "name": "ipython",
    "version": 3
   },
   "file_extension": ".py",
   "mimetype": "text/x-python",
   "name": "python",
   "nbconvert_exporter": "python",
   "pygments_lexer": "ipython3",
   "version": "3.8.3"
  }
 },
 "nbformat": 4,
 "nbformat_minor": 4
}
