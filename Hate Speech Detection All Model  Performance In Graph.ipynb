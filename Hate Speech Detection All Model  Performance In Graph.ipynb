{
 "cells": [
  {
   "cell_type": "code",
   "execution_count": 1,
   "metadata": {},
   "outputs": [],
   "source": [
    "import pandas as pd\n",
    "import numpy as np\n",
    "import seaborn as sns\n",
    "import matplotlib.pyplot as plt\n"
   ]
  },
  {
   "cell_type": "code",
   "execution_count": 2,
   "metadata": {},
   "outputs": [
    {
     "data": {
      "text/html": [
       "<div>\n",
       "<style scoped>\n",
       "    .dataframe tbody tr th:only-of-type {\n",
       "        vertical-align: middle;\n",
       "    }\n",
       "\n",
       "    .dataframe tbody tr th {\n",
       "        vertical-align: top;\n",
       "    }\n",
       "\n",
       "    .dataframe thead th {\n",
       "        text-align: right;\n",
       "    }\n",
       "</style>\n",
       "<table border=\"1\" class=\"dataframe\">\n",
       "  <thead>\n",
       "    <tr style=\"text-align: right;\">\n",
       "      <th></th>\n",
       "      <th>Unnamed: 0</th>\n",
       "      <th>count</th>\n",
       "      <th>hate_speech</th>\n",
       "      <th>offensive_language</th>\n",
       "      <th>neither</th>\n",
       "      <th>class</th>\n",
       "      <th>tweet</th>\n",
       "    </tr>\n",
       "  </thead>\n",
       "  <tbody>\n",
       "    <tr>\n",
       "      <th>0</th>\n",
       "      <td>0</td>\n",
       "      <td>3</td>\n",
       "      <td>0</td>\n",
       "      <td>0</td>\n",
       "      <td>3</td>\n",
       "      <td>2</td>\n",
       "      <td>!!! RT @mayasolovely: As a woman you shouldn't...</td>\n",
       "    </tr>\n",
       "    <tr>\n",
       "      <th>1</th>\n",
       "      <td>1</td>\n",
       "      <td>3</td>\n",
       "      <td>0</td>\n",
       "      <td>3</td>\n",
       "      <td>0</td>\n",
       "      <td>1</td>\n",
       "      <td>!!!!! RT @mleew17: boy dats cold...tyga dwn ba...</td>\n",
       "    </tr>\n",
       "    <tr>\n",
       "      <th>2</th>\n",
       "      <td>2</td>\n",
       "      <td>3</td>\n",
       "      <td>0</td>\n",
       "      <td>3</td>\n",
       "      <td>0</td>\n",
       "      <td>1</td>\n",
       "      <td>!!!!!!! RT @UrKindOfBrand Dawg!!!! RT @80sbaby...</td>\n",
       "    </tr>\n",
       "    <tr>\n",
       "      <th>3</th>\n",
       "      <td>3</td>\n",
       "      <td>3</td>\n",
       "      <td>0</td>\n",
       "      <td>2</td>\n",
       "      <td>1</td>\n",
       "      <td>1</td>\n",
       "      <td>!!!!!!!!! RT @C_G_Anderson: @viva_based she lo...</td>\n",
       "    </tr>\n",
       "    <tr>\n",
       "      <th>4</th>\n",
       "      <td>4</td>\n",
       "      <td>6</td>\n",
       "      <td>0</td>\n",
       "      <td>6</td>\n",
       "      <td>0</td>\n",
       "      <td>1</td>\n",
       "      <td>!!!!!!!!!!!!! RT @ShenikaRoberts: The shit you...</td>\n",
       "    </tr>\n",
       "  </tbody>\n",
       "</table>\n",
       "</div>"
      ],
      "text/plain": [
       "   Unnamed: 0  count  hate_speech  offensive_language  neither  class  \\\n",
       "0           0      3            0                   0        3      2   \n",
       "1           1      3            0                   3        0      1   \n",
       "2           2      3            0                   3        0      1   \n",
       "3           3      3            0                   2        1      1   \n",
       "4           4      6            0                   6        0      1   \n",
       "\n",
       "                                               tweet  \n",
       "0  !!! RT @mayasolovely: As a woman you shouldn't...  \n",
       "1  !!!!! RT @mleew17: boy dats cold...tyga dwn ba...  \n",
       "2  !!!!!!! RT @UrKindOfBrand Dawg!!!! RT @80sbaby...  \n",
       "3  !!!!!!!!! RT @C_G_Anderson: @viva_based she lo...  \n",
       "4  !!!!!!!!!!!!! RT @ShenikaRoberts: The shit you...  "
      ]
     },
     "execution_count": 2,
     "metadata": {},
     "output_type": "execute_result"
    }
   ],
   "source": [
    "df=pd.read_csv('E:\\python practice\\hate_speech_smalldataset.csv')\n",
    "\n",
    "df.head()"
   ]
  },
  {
   "cell_type": "code",
   "execution_count": 3,
   "metadata": {},
   "outputs": [],
   "source": [
    "df.drop(columns=[\"Unnamed: 0\",\"count\",\"hate_speech\",\"offensive_language\",\"neither\"],axis=1,inplace=True)\n"
   ]
  },
  {
   "cell_type": "code",
   "execution_count": 4,
   "metadata": {},
   "outputs": [
    {
     "data": {
      "image/png": "[encoded data removed]",
      "text/plain": [
       "<Figure size 640x480 with 1 Axes>"
      ]
     },
     "metadata": {},
     "output_type": "display_data"
    }
   ],
   "source": [
    "df.head()\n",
    "sns.countplot(x ='class', data = df)\n",
    "plt.show()"
   ]
  },
  {
   "cell_type": "code",
   "execution_count": null,
   "metadata": {},
   "outputs": [],
   "source": []
  },
  {
   "cell_type": "code",
   "execution_count": 5,
   "metadata": {},
   "outputs": [
    {
     "data": {
      "text/html": [
       "<div>\n",
       "<style scoped>\n",
       "    .dataframe tbody tr th:only-of-type {\n",
       "        vertical-align: middle;\n",
       "    }\n",
       "\n",
       "    .dataframe tbody tr th {\n",
       "        vertical-align: top;\n",
       "    }\n",
       "\n",
       "    .dataframe thead th {\n",
       "        text-align: right;\n",
       "    }\n",
       "</style>\n",
       "<table border=\"1\" class=\"dataframe\">\n",
       "  <thead>\n",
       "    <tr style=\"text-align: right;\">\n",
       "      <th></th>\n",
       "      <th>class</th>\n",
       "      <th>tweet</th>\n",
       "    </tr>\n",
       "  </thead>\n",
       "  <tbody>\n",
       "    <tr>\n",
       "      <th>0</th>\n",
       "      <td>2</td>\n",
       "      <td>!!! RT @mayasolovely: As a woman you shouldn't...</td>\n",
       "    </tr>\n",
       "    <tr>\n",
       "      <th>40</th>\n",
       "      <td>2</td>\n",
       "      <td>\" momma said no pussy cats inside my doghouse \"</td>\n",
       "    </tr>\n",
       "    <tr>\n",
       "      <th>63</th>\n",
       "      <td>2</td>\n",
       "      <td>\"@Addicted2Guys: -SimplyAddictedToGuys http://...</td>\n",
       "    </tr>\n",
       "    <tr>\n",
       "      <th>66</th>\n",
       "      <td>2</td>\n",
       "      <td>\"@AllAboutManFeet: http://t.co/3gzUpfuMev\" woo...</td>\n",
       "    </tr>\n",
       "    <tr>\n",
       "      <th>67</th>\n",
       "      <td>2</td>\n",
       "      <td>\"@Allyhaaaaa: Lemmie eat a Oreo &amp;amp; do these...</td>\n",
       "    </tr>\n",
       "  </tbody>\n",
       "</table>\n",
       "</div>"
      ],
      "text/plain": [
       "    class                                              tweet\n",
       "0       2  !!! RT @mayasolovely: As a woman you shouldn't...\n",
       "40      2    \" momma said no pussy cats inside my doghouse \"\n",
       "63      2  \"@Addicted2Guys: -SimplyAddictedToGuys http://...\n",
       "66      2  \"@AllAboutManFeet: http://t.co/3gzUpfuMev\" woo...\n",
       "67      2  \"@Allyhaaaaa: Lemmie eat a Oreo &amp; do these..."
      ]
     },
     "execution_count": 5,
     "metadata": {},
     "output_type": "execute_result"
    }
   ],
   "source": [
    "df[df['class']==2].head()"
   ]
  },
  {
   "cell_type": "code",
   "execution_count": 6,
   "metadata": {},
   "outputs": [
    {
     "name": "stderr",
     "output_type": "stream",
     "text": [
      "C:\\Users\\Amjad Net Cafe\\.conda\\envs\\myEnv\\lib\\site-packages\\seaborn\\_decorators.py:43: FutureWarning: Pass the following variable as a keyword arg: x. From version 0.12, the only valid positional argument will be `data`, and passing other arguments without an explicit keyword will result in an error or misinterpretation.\n",
      "  FutureWarning\n"
     ]
    },
    {
     "data": {
      "text/plain": [
       "<AxesSubplot:xlabel='class', ylabel='count'>"
      ]
     },
     "execution_count": 6,
     "metadata": {},
     "output_type": "execute_result"
    }
   ],
   "source": [
    "#df[\"class\"].replace({0: 1}, inplace=True)\n",
    "#df['class'].unique()\n",
    "sns.countplot('class',data=df)"
   ]
  },
  {
   "cell_type": "code",
   "execution_count": 7,
   "metadata": {},
   "outputs": [],
   "source": [
    "#df[df['class']==0]"
   ]
  },
  {
   "cell_type": "code",
   "execution_count": 8,
   "metadata": {},
   "outputs": [],
   "source": [
    "df[\"class\"].replace({2: 0}, inplace=True)"
   ]
  },
  {
   "cell_type": "code",
   "execution_count": 9,
   "metadata": {},
   "outputs": [
    {
     "name": "stderr",
     "output_type": "stream",
     "text": [
      "C:\\Users\\Amjad Net Cafe\\.conda\\envs\\myEnv\\lib\\site-packages\\seaborn\\_decorators.py:43: FutureWarning: Pass the following variable as a keyword arg: x. From version 0.12, the only valid positional argument will be `data`, and passing other arguments without an explicit keyword will result in an error or misinterpretation.\n",
      "  FutureWarning\n"
     ]
    },
    {
     "data": {
      "text/plain": [
       "<AxesSubplot:xlabel='class', ylabel='count'>"
      ]
     },
     "execution_count": 9,
     "metadata": {},
     "output_type": "execute_result"
    }
   ],
   "source": [
    "sns.countplot('class',data=df)"
   ]
  },
  {
   "cell_type": "code",
   "execution_count": 10,
   "metadata": {},
   "outputs": [
    {
     "data": {
      "text/html": [
       "<div>\n",
       "<style scoped>\n",
       "    .dataframe tbody tr th:only-of-type {\n",
       "        vertical-align: middle;\n",
       "    }\n",
       "\n",
       "    .dataframe tbody tr th {\n",
       "        vertical-align: top;\n",
       "    }\n",
       "\n",
       "    .dataframe thead th {\n",
       "        text-align: right;\n",
       "    }\n",
       "</style>\n",
       "<table border=\"1\" class=\"dataframe\">\n",
       "  <thead>\n",
       "    <tr style=\"text-align: right;\">\n",
       "      <th></th>\n",
       "      <th>class</th>\n",
       "      <th>tweet</th>\n",
       "    </tr>\n",
       "  </thead>\n",
       "  <tbody>\n",
       "    <tr>\n",
       "      <th>0</th>\n",
       "      <td>0</td>\n",
       "      <td>!!! RT @mayasolovely: As a woman you shouldn't...</td>\n",
       "    </tr>\n",
       "    <tr>\n",
       "      <th>40</th>\n",
       "      <td>0</td>\n",
       "      <td>\" momma said no pussy cats inside my doghouse \"</td>\n",
       "    </tr>\n",
       "    <tr>\n",
       "      <th>63</th>\n",
       "      <td>0</td>\n",
       "      <td>\"@Addicted2Guys: -SimplyAddictedToGuys http://...</td>\n",
       "    </tr>\n",
       "    <tr>\n",
       "      <th>66</th>\n",
       "      <td>0</td>\n",
       "      <td>\"@AllAboutManFeet: http://t.co/3gzUpfuMev\" woo...</td>\n",
       "    </tr>\n",
       "    <tr>\n",
       "      <th>67</th>\n",
       "      <td>0</td>\n",
       "      <td>\"@Allyhaaaaa: Lemmie eat a Oreo &amp;amp; do these...</td>\n",
       "    </tr>\n",
       "    <tr>\n",
       "      <th>70</th>\n",
       "      <td>0</td>\n",
       "      <td>\"@ArizonasFinest6: Why the eggplant emoji doe?...</td>\n",
       "    </tr>\n",
       "    <tr>\n",
       "      <th>75</th>\n",
       "      <td>0</td>\n",
       "      <td>\"@BabyAnimalPics: baby monkey bathtime http://...</td>\n",
       "    </tr>\n",
       "    <tr>\n",
       "      <th>85</th>\n",
       "      <td>0</td>\n",
       "      <td>\"@Blackman38Tide: @WhaleLookyHere @HowdyDowdy1...</td>\n",
       "    </tr>\n",
       "    <tr>\n",
       "      <th>89</th>\n",
       "      <td>0</td>\n",
       "      <td>\"@CB_Baby24: @white_thunduh alsarabsss\" hes a ...</td>\n",
       "    </tr>\n",
       "    <tr>\n",
       "      <th>110</th>\n",
       "      <td>0</td>\n",
       "      <td>\"@DevilGrimz: @VigxRArts you're fucking gay, b...</td>\n",
       "    </tr>\n",
       "    <tr>\n",
       "      <th>115</th>\n",
       "      <td>0</td>\n",
       "      <td>\"@DomWorldPeace: Baseball season for the win. ...</td>\n",
       "    </tr>\n",
       "    <tr>\n",
       "      <th>118</th>\n",
       "      <td>0</td>\n",
       "      <td>\"@DunderbaIl: I'm an early bird and I'm a nigh...</td>\n",
       "    </tr>\n",
       "    <tr>\n",
       "      <th>119</th>\n",
       "      <td>0</td>\n",
       "      <td>\"@EdgarPixar: Overdosing on heavy drugs doesn'...</td>\n",
       "    </tr>\n",
       "    <tr>\n",
       "      <th>120</th>\n",
       "      <td>0</td>\n",
       "      <td>\"@El_Grillo1: Pit Bulls Photographed As Lovely...</td>\n",
       "    </tr>\n",
       "    <tr>\n",
       "      <th>122</th>\n",
       "      <td>0</td>\n",
       "      <td>\"@FloKid88: As long as the Lakers trash from n...</td>\n",
       "    </tr>\n",
       "    <tr>\n",
       "      <th>124</th>\n",
       "      <td>0</td>\n",
       "      <td>\"@FunnyPicsDepot: this the \"I play soccer, che...</td>\n",
       "    </tr>\n",
       "    <tr>\n",
       "      <th>140</th>\n",
       "      <td>0</td>\n",
       "      <td>\"@HermosaAlma: This isn't ghetto.....it's smar...</td>\n",
       "    </tr>\n",
       "    <tr>\n",
       "      <th>149</th>\n",
       "      <td>0</td>\n",
       "      <td>\"@JReebo: Who wants to get there nose in these...</td>\n",
       "    </tr>\n",
       "    <tr>\n",
       "      <th>158</th>\n",
       "      <td>0</td>\n",
       "      <td>\"@KeyshawnSwag: Peel up peel up bring it back ...</td>\n",
       "    </tr>\n",
       "    <tr>\n",
       "      <th>164</th>\n",
       "      <td>0</td>\n",
       "      <td>\"@KnightfanNeal #UCFPINKPARTY come on stay ali...</td>\n",
       "    </tr>\n",
       "  </tbody>\n",
       "</table>\n",
       "</div>"
      ],
      "text/plain": [
       "     class                                              tweet\n",
       "0        0  !!! RT @mayasolovely: As a woman you shouldn't...\n",
       "40       0    \" momma said no pussy cats inside my doghouse \"\n",
       "63       0  \"@Addicted2Guys: -SimplyAddictedToGuys http://...\n",
       "66       0  \"@AllAboutManFeet: http://t.co/3gzUpfuMev\" woo...\n",
       "67       0  \"@Allyhaaaaa: Lemmie eat a Oreo &amp; do these...\n",
       "70       0  \"@ArizonasFinest6: Why the eggplant emoji doe?...\n",
       "75       0  \"@BabyAnimalPics: baby monkey bathtime http://...\n",
       "85       0  \"@Blackman38Tide: @WhaleLookyHere @HowdyDowdy1...\n",
       "89       0  \"@CB_Baby24: @white_thunduh alsarabsss\" hes a ...\n",
       "110      0  \"@DevilGrimz: @VigxRArts you're fucking gay, b...\n",
       "115      0  \"@DomWorldPeace: Baseball season for the win. ...\n",
       "118      0  \"@DunderbaIl: I'm an early bird and I'm a nigh...\n",
       "119      0  \"@EdgarPixar: Overdosing on heavy drugs doesn'...\n",
       "120      0  \"@El_Grillo1: Pit Bulls Photographed As Lovely...\n",
       "122      0  \"@FloKid88: As long as the Lakers trash from n...\n",
       "124      0  \"@FunnyPicsDepot: this the \"I play soccer, che...\n",
       "140      0  \"@HermosaAlma: This isn't ghetto.....it's smar...\n",
       "149      0  \"@JReebo: Who wants to get there nose in these...\n",
       "158      0  \"@KeyshawnSwag: Peel up peel up bring it back ...\n",
       "164      0  \"@KnightfanNeal #UCFPINKPARTY come on stay ali..."
      ]
     },
     "execution_count": 10,
     "metadata": {},
     "output_type": "execute_result"
    }
   ],
   "source": [
    "df[df['class']==0].head(20)\n"
   ]
  },
  {
   "cell_type": "markdown",
   "metadata": {},
   "source": [
    "# Data Cleaning"
   ]
  },
  {
   "cell_type": "code",
   "execution_count": 11,
   "metadata": {},
   "outputs": [
    {
     "name": "stderr",
     "output_type": "stream",
     "text": [
      "[nltk_data] Downloading package stopwords to C:\\Users\\Amjad Net\n",
      "[nltk_data]     Cafe\\AppData\\Roaming\\nltk_data...\n",
      "[nltk_data]   Package stopwords is already up-to-date!\n"
     ]
    }
   ],
   "source": [
    "#Data cleaning and preprocessing\n",
    "import re\n",
    "import nltk\n",
    "nltk.download('stopwords')\n",
    "\n",
    "\n",
    "from nltk.corpus import stopwords\n",
    "from nltk.stem.porter import PorterStemmer\n",
    "ps = PorterStemmer()\n",
    "corpus = []\n",
    "for i in range(0, len(df)):\n",
    "    tweets = re.sub('[^-9A-Za-z]', ' ', df['tweet'][i])\n",
    "    tweets = tweets.lower()\n",
    "    tweets = tweets.split()\n",
    "    \n",
    "    tweets = [ps.stem(word) for word in tweets if not word in stopwords.words('english')]\n",
    "    tweets = ' '.join(tweets)\n",
    "    corpus.append(tweets)"
   ]
  },
  {
   "cell_type": "markdown",
   "metadata": {},
   "source": [
    "# Bag Of Words "
   ]
  },
  {
   "cell_type": "code",
   "execution_count": 12,
   "metadata": {},
   "outputs": [],
   "source": [
    "from sklearn.feature_extraction.text import CountVectorizer\n",
    "    \n",
    "cv = CountVectorizer(max_features =5000,ngram_range=(1,2))\n",
    "x=cv.fit_transform(corpus).toarray()\n",
    "y=df['class']\n"
   ]
  },
  {
   "cell_type": "code",
   "execution_count": 13,
   "metadata": {},
   "outputs": [],
   "source": [
    "from sklearn.model_selection import train_test_split\n",
    "xtrain,xtest,ytrain,ytest=train_test_split(x,y,test_size=0.40)\n"
   ]
  },
  {
   "cell_type": "markdown",
   "metadata": {},
   "source": [
    "# Logistic Regression Model"
   ]
  },
  {
   "cell_type": "code",
   "execution_count": 14,
   "metadata": {},
   "outputs": [
    {
     "data": {
      "text/plain": [
       "LogisticRegression()"
      ]
     },
     "execution_count": 14,
     "metadata": {},
     "output_type": "execute_result"
    }
   ],
   "source": [
    "from sklearn.linear_model import LogisticRegression\n",
    "lr=LogisticRegression(solver='lbfgs',max_iter=100)\n",
    "lr.fit(xtrain,ytrain)"
   ]
  },
  {
   "cell_type": "markdown",
   "metadata": {},
   "source": [
    "# Prediction"
   ]
  },
  {
   "cell_type": "code",
   "execution_count": 15,
   "metadata": {},
   "outputs": [],
   "source": [
    "y_pred=lr.predict(xtest)"
   ]
  },
  {
   "cell_type": "markdown",
   "metadata": {},
   "source": [
    "# Accuracy ,Precission And Recall  Score"
   ]
  },
  {
   "cell_type": "code",
   "execution_count": 16,
   "metadata": {},
   "outputs": [
    {
     "name": "stdout",
     "output_type": "stream",
     "text": [
      "87.32042473454091\n",
      "91.44684252597922\n",
      "92.25806451612904\n"
     ]
    }
   ],
   "source": [
    "from sklearn.metrics import accuracy_score,precision_score,recall_score\n",
    "\n",
    "accu_scr_lr=accuracy_score(ytest,y_pred)*100\n",
    "print(accu_scr_lr)\n",
    "\n",
    "prec_scr_lr=precision_score(ytest,y_pred)*100\n",
    "print(prec_scr_lr)\n",
    "\n",
    "recall_scr_lr=recall_score(ytest,y_pred)*100\n",
    "print(recall_scr_lr)"
   ]
  },
  {
   "cell_type": "code",
   "execution_count": null,
   "metadata": {},
   "outputs": [],
   "source": []
  },
  {
   "cell_type": "markdown",
   "metadata": {},
   "source": [
    "# Naive Bayes Model  Training"
   ]
  },
  {
   "cell_type": "code",
   "execution_count": 17,
   "metadata": {},
   "outputs": [
    {
     "data": {
      "text/plain": [
       "MultinomialNB(alpha=3.6)"
      ]
     },
     "execution_count": 17,
     "metadata": {},
     "output_type": "execute_result"
    }
   ],
   "source": [
    "from sklearn.naive_bayes import MultinomialNB\n",
    "nv=MultinomialNB(alpha=3.6)\n",
    "#from sklearn.naive_bayes import GaussianNB\n",
    "#model=GaussianNB()\n",
    "#model.fit(xtrain_count,ytrain)\n",
    "nv.fit(xtrain,ytrain)"
   ]
  },
  {
   "cell_type": "code",
   "execution_count": 18,
   "metadata": {},
   "outputs": [
    {
     "data": {
      "text/plain": [
       "array([1, 1, 1, ..., 1, 1, 1], dtype=int64)"
      ]
     },
     "execution_count": 18,
     "metadata": {},
     "output_type": "execute_result"
    }
   ],
   "source": [
    "y_pred1=nv.predict(xtest)\n",
    "y_pred1"
   ]
  },
  {
   "cell_type": "code",
   "execution_count": 19,
   "metadata": {},
   "outputs": [
    {
     "name": "stdout",
     "output_type": "stream",
     "text": [
      "84.50968144909432\n",
      "84.3015214384509\n",
      "98.30645161290322\n"
     ]
    }
   ],
   "source": [
    "accu_scr_nb=accuracy_score(ytest,y_pred1)*100\n",
    "print(accu_scr_nb)\n",
    "\n",
    "prec_scr_nb=precision_score(ytest,y_pred1)*100\n",
    "print(prec_scr_nb)\n",
    "\n",
    "recall_scr_nb=recall_score(ytest,y_pred1)*100\n",
    "print(recall_scr_nb)"
   ]
  },
  {
   "cell_type": "markdown",
   "metadata": {},
   "source": [
    "# Decision Tree Model"
   ]
  },
  {
   "cell_type": "code",
   "execution_count": 20,
   "metadata": {},
   "outputs": [
    {
     "data": {
      "text/plain": [
       "0.8413491567770144"
      ]
     },
     "execution_count": 20,
     "metadata": {},
     "output_type": "execute_result"
    }
   ],
   "source": [
    "from sklearn.tree import DecisionTreeClassifier\n",
    "dt = DecisionTreeClassifier(criterion = \"entropy\", random_state = 100,\n",
    "                               max_depth=3, min_samples_leaf=5)\n",
    "dt.fit(xtrain, ytrain)\n",
    "dt.score(xtest,ytest)"
   ]
  },
  {
   "cell_type": "code",
   "execution_count": 21,
   "metadata": {},
   "outputs": [],
   "source": [
    "y_pred2=dt.predict(xtest)\n"
   ]
  },
  {
   "cell_type": "code",
   "execution_count": 22,
   "metadata": {},
   "outputs": [
    {
     "name": "stdout",
     "output_type": "stream",
     "text": [
      "84.13491567770144\n",
      "97.77131782945736\n",
      "81.37096774193549\n"
     ]
    }
   ],
   "source": [
    "accu_scr_dt=accuracy_score(ytest,y_pred2)*100\n",
    "print(accu_scr_dt)\n",
    "\n",
    "prec_scr_dt=precision_score(ytest,y_pred2)*100\n",
    "print(prec_scr_dt)\n",
    "\n",
    "recall_scr_dt=recall_score(ytest,y_pred2)*100\n",
    "print(recall_scr_dt)"
   ]
  },
  {
   "cell_type": "markdown",
   "metadata": {},
   "source": [
    "# Random Forest Model"
   ]
  },
  {
   "cell_type": "code",
   "execution_count": 23,
   "metadata": {},
   "outputs": [
    {
     "data": {
      "text/plain": [
       "0.891317926296065"
      ]
     },
     "execution_count": 23,
     "metadata": {},
     "output_type": "execute_result"
    }
   ],
   "source": [
    "from sklearn.ensemble import RandomForestClassifier\n",
    "\n",
    "rf=RandomForestClassifier()\n",
    "\n",
    "#Train the model using the training sets y_pred=clf.predict(X_test)\n",
    "rf.fit(xtrain,ytrain)\n",
    "\n",
    "y_pred3=rf.predict(xtest)\n",
    "y_pred3\n",
    "rf.score(xtest,ytest)\n",
    "\n",
    "\n"
   ]
  },
  {
   "cell_type": "code",
   "execution_count": 24,
   "metadata": {},
   "outputs": [
    {
     "name": "stdout",
     "output_type": "stream",
     "text": [
      "89.1317926296065\n",
      "92.03470031545741\n",
      "94.11290322580645\n"
     ]
    }
   ],
   "source": [
    "#Accuracy\n",
    "accu_scr_rf=accuracy_score(ytest,y_pred3)*100\n",
    "print(accu_scr_rf)\n",
    "\n",
    "prec_scr_rf=precision_score(ytest,y_pred3)*100\n",
    "print(prec_scr_rf)\n",
    "\n",
    "recall_scr_rf=recall_score(ytest,y_pred3)*100\n",
    "print(recall_scr_rf)\n"
   ]
  },
  {
   "cell_type": "markdown",
   "metadata": {},
   "source": [
    "# KNN Model"
   ]
  },
  {
   "cell_type": "code",
   "execution_count": 25,
   "metadata": {},
   "outputs": [
    {
     "data": {
      "text/plain": [
       "0.891317926296065"
      ]
     },
     "execution_count": 25,
     "metadata": {},
     "output_type": "execute_result"
    }
   ],
   "source": [
    "from sklearn.neighbors import KNeighborsClassifier\n",
    "knn=KNeighborsClassifier()\n",
    "knn.fit(xtrain,ytrain)\n",
    "knn.score(xtest,ytest)\n",
    "\n",
    "y_pred4=knn.predict(xtest)\n",
    "y_pred4\n",
    "rf.score(xtest,ytest)\n",
    "\n"
   ]
  },
  {
   "cell_type": "code",
   "execution_count": 26,
   "metadata": {},
   "outputs": [
    {
     "name": "stdout",
     "output_type": "stream",
     "text": [
      "82.57339163023111\n",
      "86.87643898695319\n",
      "91.29032258064517\n"
     ]
    }
   ],
   "source": [
    "#Accuracy\n",
    "accu_scr_knn=accuracy_score(ytest,y_pred4)*100\n",
    "print(accu_scr_knn)\n",
    "\n",
    "prec_scr_knn=precision_score(ytest,y_pred4)*100\n",
    "print(prec_scr_knn)\n",
    "\n",
    "recall_scr_knn=recall_score(ytest,y_pred4)*100\n",
    "print(recall_scr_knn)"
   ]
  },
  {
   "cell_type": "markdown",
   "metadata": {},
   "source": [
    "# SVM Model"
   ]
  },
  {
   "cell_type": "code",
   "execution_count": 27,
   "metadata": {},
   "outputs": [
    {
     "data": {
      "text/plain": [
       "0.8819487820112429"
      ]
     },
     "execution_count": 27,
     "metadata": {},
     "output_type": "execute_result"
    }
   ],
   "source": [
    "from sklearn.svm import SVC\n",
    "svm = SVC()\n",
    "svm.fit(xtrain, ytrain)\n",
    "y_pred5=svm.predict(xtest)\n",
    "\n",
    "svm.score(xtest,ytest)\n"
   ]
  },
  {
   "cell_type": "code",
   "execution_count": 28,
   "metadata": {},
   "outputs": [
    {
     "name": "stdout",
     "output_type": "stream",
     "text": [
      "88.1948782011243\n",
      "91.4759273875296\n",
      "93.46774193548387\n"
     ]
    }
   ],
   "source": [
    "#Accuracy\n",
    "accu_scr_svm=accuracy_score(ytest,y_pred5)*100\n",
    "print(accu_scr_svm)\n",
    "\n",
    "prec_scr_svm=precision_score(ytest,y_pred5)*100\n",
    "print(prec_scr_svm)\n",
    "\n",
    "recall_scr_svm=recall_score(ytest,y_pred5)*100\n",
    "print(recall_scr_svm)"
   ]
  },
  {
   "cell_type": "code",
   "execution_count": 29,
   "metadata": {},
   "outputs": [
    {
     "name": "stdout",
     "output_type": "stream",
     "text": [
      "+-------------+------------------+-------------------+----------------+\n",
      "| Classifiers | Average Accuracy | Average Precision | Average Recall |\n",
      "+=============+==================+===================+================+\n",
      "| SVM         | 88.195           | 91.476            | 93.468         |\n",
      "+-------------+------------------+-------------------+----------------+\n",
      "| LR          | 87.320           | 91.447            | 92.258         |\n",
      "+-------------+------------------+-------------------+----------------+\n",
      "| DTC         | 84.135           | 97.771            | 81.371         |\n",
      "+-------------+------------------+-------------------+----------------+\n",
      "| RFC         | 89.132           | 92.035            | 94.113         |\n",
      "+-------------+------------------+-------------------+----------------+\n",
      "| NBC         | 84.510           | 84.302            | 98.306         |\n",
      "+-------------+------------------+-------------------+----------------+\n",
      "| KNN         | 82.573           | 86.876            | 91.290         |\n",
      "+-------------+------------------+-------------------+----------------+\n"
     ]
    }
   ],
   "source": [
    "\n",
    "from texttable import Texttable\n",
    "\n",
    "# texttable takes the first reocrd in the list as the column names\n",
    "# of the table\n",
    "Data = [[\"Classifiers\", \"Average Accuracy\", \"Average Precision\",\"Average Recall\"],\n",
    "        [\"SVM\", accu_scr_svm,prec_scr_svm,recall_scr_svm],\n",
    "        [\"LR\",accu_scr_lr,prec_scr_lr,recall_scr_lr ],\n",
    "        [\"DTC\",accu_scr_dt,prec_scr_dt,recall_scr_dt],\n",
    "        [\"RFC\", accu_scr_rf,prec_scr_rf,recall_scr_rf],\n",
    "        [\"NBC\", accu_scr_nb,prec_scr_nb,recall_scr_nb],\n",
    "        [\"KNN\", accu_scr_knn,prec_scr_knn,recall_scr_knn]]\n",
    "\n",
    "table = Texttable()\n",
    "table.add_rows(Data)\n",
    "print(table.draw())\n",
    "\n"
   ]
  },
  {
   "cell_type": "code",
   "execution_count": 31,
   "metadata": {},
   "outputs": [
    {
     "data": {
      "image/png": "[encoded data removed]",
      "text/plain": [
       "<Figure size 640x480 with 1 Axes>"
      ]
     },
     "metadata": {},
     "output_type": "display_data"
    }
   ],
   "source": [
    "import matplotlib.pyplot as plt\n",
    "import numpy as np\n",
    "  \n",
    "# create data\n",
    "X = np.arange(6)\n",
    "y1= [accu_scr_lr,accu_scr_nb,accu_scr_dt,accu_scr_rf,accu_scr_knn,accu_scr_svm]\n",
    "    \n",
    "y2=[prec_scr_lr,prec_scr_nb,prec_scr_dt,prec_scr_rf,prec_scr_knn,prec_scr_svm]\n",
    "\n",
    "y3=[recall_scr_lr,recall_scr_nb,recall_scr_dt,recall_scr_rf,recall_scr_knn,recall_scr_svm]\n",
    "width=0.2\n",
    "  \n",
    "# plot data in grouped manner of bar type\n",
    "plt.bar(X-0.25, y1, width, color='blue')\n",
    "plt.bar(X, y2, width, color='orange')\n",
    "plt.bar(X+0.25, y3, width, color='green')\n",
    "plt.xticks(X, [\"LR\",\"NB\",\"DT\",\"RF\",\"KNN\",\"SVM\"])\n",
    "plt.xlabel(\"Mdels\")\n",
    "plt.ylabel(\"Scores\")\n",
    "plt.legend([\"Accuuracy\",\"precision\",\"Recall\"], bbox_to_anchor =(1.3,1.03),ncol=1)\n",
    "plt.show()"
   ]
  },
  {
   "cell_type": "code",
   "execution_count": null,
   "metadata": {},
   "outputs": [],
   "source": []
  }
 ],
 "metadata": {
  "kernelspec": {
   "display_name": "Python 3",
   "language": "python",
   "name": "python3"
  },
  "language_info": {
   "codemirror_mode": {
    "name": "ipython",
    "version": 3
   },
   "file_extension": ".py",
   "mimetype": "text/x-python",
   "name": "python",
   "nbconvert_exporter": "python",
   "pygments_lexer": "ipython3",
   "version": "3.7.11"
  }
 },
 "nbformat": 4,
 "nbformat_minor": 4
}
