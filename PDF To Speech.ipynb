{
 "cells": [
  {
   "cell_type": "code",
   "execution_count": 1,
   "metadata": {},
   "outputs": [],
   "source": [
    "#importing the modules\n",
    "import PyPDF2\n",
    "import pyttsx3\n",
    "  \n"
   ]
  },
  {
   "cell_type": "code",
   "execution_count": 5,
   "metadata": {},
   "outputs": [],
   "source": [
    "# path of the PDF file\n",
    "#path = open('E:\\python practice\\NLP.pdf', 'rb')\n",
    "  \n",
    "# creating a PdfFileReader object\n",
    "pdfReader = PyPDF2.PdfFileReader('E:\\\\python practice\\\\NLP.pdf')\n",
    "# the page with which you want to start\n",
    "# this will read the page of 25th page.\n",
    "from_page = pdfReader.getPage(24)\n",
    "  \n",
    "# extracting the text from the PDF\n",
    "text = from_page.extractText()\n",
    "  \n",
    "\n",
    "  \n",
    "    \n",
    "    "
   ]
  },
  {
   "cell_type": "code",
   "execution_count": 6,
   "metadata": {},
   "outputs": [],
   "source": [
    "# reading the text\n",
    "speak = pyttsx3.init()\n",
    "speak.say(text)\n",
    "speak.runAndWait()\n"
   ]
  },
  {
   "cell_type": "code",
   "execution_count": null,
   "metadata": {},
   "outputs": [],
   "source": []
  }
 ],
 "metadata": {
  "kernelspec": {
   "display_name": "Python 3",
   "language": "python",
   "name": "python3"
  },
  "language_info": {
   "codemirror_mode": {
    "name": "ipython",
    "version": 3
   },
   "file_extension": ".py",
   "mimetype": "text/x-python",
   "name": "python",
   "nbconvert_exporter": "python",
   "pygments_lexer": "ipython3",
   "version": "3.8.3"
  }
 },
 "nbformat": 4,
 "nbformat_minor": 4
}
