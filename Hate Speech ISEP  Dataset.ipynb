{
 "cells": [
  {
   "cell_type": "code",
   "execution_count": 1,
   "metadata": {},
   "outputs": [],
   "source": [
    "import pandas as pd\n",
    "import numpy as np"
   ]
  },
  {
   "cell_type": "code",
   "execution_count": 2,
   "metadata": {},
   "outputs": [
    {
     "data": {
      "text/html": [
       "<div>\n",
       "<style scoped>\n",
       "    .dataframe tbody tr th:only-of-type {\n",
       "        vertical-align: middle;\n",
       "    }\n",
       "\n",
       "    .dataframe tbody tr th {\n",
       "        vertical-align: top;\n",
       "    }\n",
       "\n",
       "    .dataframe thead th {\n",
       "        text-align: right;\n",
       "    }\n",
       "</style>\n",
       "<table border=\"1\" class=\"dataframe\">\n",
       "  <thead>\n",
       "    <tr style=\"text-align: right;\">\n",
       "      <th></th>\n",
       "      <th>Sentences</th>\n",
       "      <th>Label</th>\n",
       "    </tr>\n",
       "  </thead>\n",
       "  <tbody>\n",
       "    <tr>\n",
       "      <th>0</th>\n",
       "      <td>For a woman, that is good</td>\n",
       "      <td>1</td>\n",
       "    </tr>\n",
       "    <tr>\n",
       "      <th>1</th>\n",
       "      <td>Just dress sexy and you will sign any contract.</td>\n",
       "      <td>1</td>\n",
       "    </tr>\n",
       "    <tr>\n",
       "      <th>2</th>\n",
       "      <td>Are you having period ?</td>\n",
       "      <td>1</td>\n",
       "    </tr>\n",
       "    <tr>\n",
       "      <th>3</th>\n",
       "      <td>Stop being bitchy</td>\n",
       "      <td>1</td>\n",
       "    </tr>\n",
       "    <tr>\n",
       "      <th>4</th>\n",
       "      <td>I leave early because of her children instead ...</td>\n",
       "      <td>1</td>\n",
       "    </tr>\n",
       "  </tbody>\n",
       "</table>\n",
       "</div>"
      ],
      "text/plain": [
       "                                           Sentences  Label\n",
       "0                          For a woman, that is good      1\n",
       "1    Just dress sexy and you will sign any contract.      1\n",
       "2                            Are you having period ?      1\n",
       "3                                  Stop being bitchy      1\n",
       "4  I leave early because of her children instead ...      1"
      ]
     },
     "execution_count": 2,
     "metadata": {},
     "output_type": "execute_result"
    }
   ],
   "source": [
    "df=pd.read_csv('E:\\python practice\\ISEP Sexist Data labeling.csv')\n",
    "df.head()"
   ]
  },
  {
   "cell_type": "code",
   "execution_count": 3,
   "metadata": {},
   "outputs": [],
   "source": [
    "x=df['Sentences']\n",
    "y=df['Label']"
   ]
  },
  {
   "cell_type": "code",
   "execution_count": 4,
   "metadata": {},
   "outputs": [
    {
     "name": "stderr",
     "output_type": "stream",
     "text": [
      "[nltk_data] Downloading package stopwords to C:\\Users\\Amjad Net\n",
      "[nltk_data]     Cafe\\AppData\\Roaming\\nltk_data...\n",
      "[nltk_data]   Package stopwords is already up-to-date!\n"
     ]
    }
   ],
   "source": [
    "#Data cleaning and preprocessing\n",
    "import re\n",
    "import nltk\n",
    "nltk.download('stopwords')\n",
    "\n",
    "\n",
    "from nltk.corpus import stopwords\n",
    "from nltk.stem.porter import PorterStemmer\n",
    "ps = PorterStemmer()\n",
    "corpus = []\n",
    "for i in range(0, len(df)):\n",
    "    sentences = re.sub('[^-9A-Za-z]', ' ', df['Sentences'][i])\n",
    "    sentences = sentences.lower()\n",
    "    sentences = sentences.split()\n",
    "    \n",
    "    sentences  = [ps.stem(word) for word in sentences  if not word in stopwords.words('english')]\n",
    "    sentences  = ' '.join(sentences)\n",
    "    corpus.append(sentences)"
   ]
  },
  {
   "cell_type": "code",
   "execution_count": 5,
   "metadata": {},
   "outputs": [],
   "source": [
    "from sklearn.feature_extraction.text import CountVectorizer\n",
    "    \n",
    "cv = CountVectorizer(max_features =5000,ngram_range=(1,3))\n",
    "x=cv.fit_transform(corpus).toarray()\n",
    "y=df['Label']"
   ]
  },
  {
   "cell_type": "code",
   "execution_count": 6,
   "metadata": {},
   "outputs": [],
   "source": [
    "from sklearn.model_selection import train_test_split\n",
    "xtrain,xtest,ytrain,ytest=train_test_split(x,y,test_size=0.40)"
   ]
  },
  {
   "cell_type": "markdown",
   "metadata": {},
   "source": [
    "# Logistic Regression"
   ]
  },
  {
   "cell_type": "code",
   "execution_count": 7,
   "metadata": {},
   "outputs": [
    {
     "data": {
      "text/plain": [
       "0.8175824175824176"
      ]
     },
     "execution_count": 7,
     "metadata": {},
     "output_type": "execute_result"
    }
   ],
   "source": [
    "from sklearn.linear_model import LogisticRegression\n",
    "lr=LogisticRegression(solver='lbfgs',max_iter=100)\n",
    "lr.fit(xtrain,ytrain)\n",
    "y_pred=lr.predict(xtest)\n",
    "lr.score(xtest,ytest)"
   ]
  },
  {
   "cell_type": "code",
   "execution_count": 8,
   "metadata": {},
   "outputs": [
    {
     "name": "stdout",
     "output_type": "stream",
     "text": [
      "0.8175824175824176\n",
      "0.8443579766536965\n",
      "0.8346153846153846\n"
     ]
    }
   ],
   "source": [
    "from sklearn.metrics import accuracy_score,precision_score,recall_score\n",
    "\n",
    "accu_scr_lr=accuracy_score(ytest,y_pred)\n",
    "print(accu_scr_lr)\n",
    "\n",
    "prec_scr_lr=precision_score(ytest,y_pred)\n",
    "print(prec_scr_lr)\n",
    "\n",
    "recall_scr_lr=recall_score(ytest,y_pred)\n",
    "print(recall_scr_lr)"
   ]
  },
  {
   "cell_type": "markdown",
   "metadata": {},
   "source": [
    "# Naive Bayes Classifier"
   ]
  },
  {
   "cell_type": "code",
   "execution_count": 9,
   "metadata": {},
   "outputs": [
    {
     "data": {
      "text/plain": [
       "MultinomialNB(alpha=3.6)"
      ]
     },
     "execution_count": 9,
     "metadata": {},
     "output_type": "execute_result"
    }
   ],
   "source": [
    "from sklearn.naive_bayes import MultinomialNB\n",
    "nv=MultinomialNB(alpha=3.6)\n",
    "#from sklearn.naive_bayes import GaussianNB\n",
    "#model=GaussianNB()\n",
    "#model.fit(xtrain_count,ytrain)\n",
    "nv.fit(xtrain,ytrain)"
   ]
  },
  {
   "cell_type": "code",
   "execution_count": 10,
   "metadata": {},
   "outputs": [],
   "source": [
    "y_pred1=nv.predict(xtest)"
   ]
  },
  {
   "cell_type": "code",
   "execution_count": 11,
   "metadata": {},
   "outputs": [
    {
     "name": "stdout",
     "output_type": "stream",
     "text": [
      "0.8021978021978022\n",
      "0.7777777777777778\n",
      "0.9153846153846154\n"
     ]
    }
   ],
   "source": [
    "accu_scr_nb=accuracy_score(ytest,y_pred1)\n",
    "print(accu_scr_nb)\n",
    "\n",
    "prec_scr_nb=precision_score(ytest,y_pred1)\n",
    "print(prec_scr_nb)\n",
    "\n",
    "recall_scr_nb=recall_score(ytest,y_pred1)\n",
    "print(recall_scr_nb)"
   ]
  },
  {
   "cell_type": "markdown",
   "metadata": {},
   "source": [
    "# DecisionTree Classifier"
   ]
  },
  {
   "cell_type": "code",
   "execution_count": 12,
   "metadata": {},
   "outputs": [
    {
     "data": {
      "text/plain": [
       "0.8285714285714286"
      ]
     },
     "execution_count": 12,
     "metadata": {},
     "output_type": "execute_result"
    }
   ],
   "source": [
    "from sklearn.tree import DecisionTreeClassifier\n",
    "dt = DecisionTreeClassifier(criterion = \"entropy\", random_state = 100)\n",
    "dt.fit(xtrain, ytrain)\n",
    "dt.score(xtest,ytest)"
   ]
  },
  {
   "cell_type": "code",
   "execution_count": 13,
   "metadata": {},
   "outputs": [],
   "source": [
    "y_pred2=dt.predict(xtest)\n"
   ]
  },
  {
   "cell_type": "code",
   "execution_count": 14,
   "metadata": {},
   "outputs": [
    {
     "name": "stdout",
     "output_type": "stream",
     "text": [
      "0.8285714285714286\n",
      "0.8888888888888888\n",
      "0.8\n"
     ]
    }
   ],
   "source": [
    "accu_scr_dt=accuracy_score(ytest,y_pred2)\n",
    "print(accu_scr_dt)\n",
    "\n",
    "prec_scr_dt=precision_score(ytest,y_pred2)\n",
    "print(prec_scr_dt)\n",
    "\n",
    "recall_scr_dt=recall_score(ytest,y_pred2)\n",
    "print(recall_scr_dt)"
   ]
  },
  {
   "cell_type": "markdown",
   "metadata": {},
   "source": [
    "# Random Forest Classifier"
   ]
  },
  {
   "cell_type": "code",
   "execution_count": 15,
   "metadata": {},
   "outputs": [
    {
     "data": {
      "text/plain": [
       "0.8175824175824176"
      ]
     },
     "execution_count": 15,
     "metadata": {},
     "output_type": "execute_result"
    }
   ],
   "source": [
    "from sklearn.ensemble import RandomForestClassifier\n",
    "\n",
    "rf=RandomForestClassifier()\n",
    "\n",
    "#Train the model using the training sets y_pred=clf.predict(X_test)\n",
    "rf.fit(xtrain,ytrain)\n",
    "\n",
    "y_pred3=rf.predict(xtest)\n",
    "y_pred3\n",
    "rf.score(xtest,ytest)\n"
   ]
  },
  {
   "cell_type": "code",
   "execution_count": 16,
   "metadata": {},
   "outputs": [
    {
     "name": "stdout",
     "output_type": "stream",
     "text": [
      "0.8175824175824176\n",
      "0.9004524886877828\n",
      "0.7653846153846153\n"
     ]
    }
   ],
   "source": [
    "#Accuracy\n",
    "accu_scr_rf=accuracy_score(ytest,y_pred3)\n",
    "print(accu_scr_rf)\n",
    "\n",
    "prec_scr_rf=precision_score(ytest,y_pred3)\n",
    "print(prec_scr_rf)\n",
    "\n",
    "recall_scr_rf=recall_score(ytest,y_pred3)\n",
    "print(recall_scr_rf)\n"
   ]
  },
  {
   "cell_type": "markdown",
   "metadata": {},
   "source": [
    "# K Neighbors Classifier"
   ]
  },
  {
   "cell_type": "code",
   "execution_count": 17,
   "metadata": {},
   "outputs": [
    {
     "data": {
      "text/plain": [
       "0.8175824175824176"
      ]
     },
     "execution_count": 17,
     "metadata": {},
     "output_type": "execute_result"
    }
   ],
   "source": [
    "from sklearn.neighbors import KNeighborsClassifier\n",
    "knn=KNeighborsClassifier()\n",
    "knn.fit(xtrain,ytrain)\n",
    "knn.score(xtest,ytest)\n",
    "\n",
    "y_pred4=knn.predict(xtest)\n",
    "y_pred4\n",
    "rf.score(xtest,ytest)"
   ]
  },
  {
   "cell_type": "code",
   "execution_count": 18,
   "metadata": {},
   "outputs": [
    {
     "name": "stdout",
     "output_type": "stream",
     "text": [
      "0.5032967032967033\n",
      "0.8695652173913043\n",
      "0.15384615384615385\n"
     ]
    }
   ],
   "source": [
    "#Accuracy\n",
    "accu_scr_knn=accuracy_score(ytest,y_pred4)\n",
    "print(accu_scr_knn)\n",
    "\n",
    "prec_scr_knn=precision_score(ytest,y_pred4)\n",
    "print(prec_scr_knn)\n",
    "\n",
    "recall_scr_knn=recall_score(ytest,y_pred4)\n",
    "print(recall_scr_knn)"
   ]
  },
  {
   "cell_type": "markdown",
   "metadata": {},
   "source": [
    "# SVM  Model"
   ]
  },
  {
   "cell_type": "code",
   "execution_count": 19,
   "metadata": {},
   "outputs": [
    {
     "data": {
      "text/plain": [
       "0.8197802197802198"
      ]
     },
     "execution_count": 19,
     "metadata": {},
     "output_type": "execute_result"
    }
   ],
   "source": [
    "from sklearn.svm import SVC\n",
    "svm = SVC()\n",
    "svm.fit(xtrain, ytrain)\n",
    "y_pred5=svm.predict(xtest)\n",
    "\n",
    "svm.score(xtest,ytest)\n"
   ]
  },
  {
   "cell_type": "code",
   "execution_count": 20,
   "metadata": {},
   "outputs": [
    {
     "name": "stdout",
     "output_type": "stream",
     "text": [
      "0.8197802197802198\n",
      "0.8345864661654135\n",
      "0.8538461538461538\n"
     ]
    }
   ],
   "source": [
    "#Accuracy\n",
    "accu_scr_svm=accuracy_score(ytest,y_pred5)\n",
    "print(accu_scr_svm)\n",
    "\n",
    "prec_scr_svm=precision_score(ytest,y_pred5)\n",
    "print(prec_scr_svm)\n",
    "\n",
    "recall_scr_svm=recall_score(ytest,y_pred5)\n",
    "print(recall_scr_svm)"
   ]
  },
  {
   "cell_type": "markdown",
   "metadata": {},
   "source": [
    "# Grpah Of All Models"
   ]
  },
  {
   "cell_type": "code",
   "execution_count": 21,
   "metadata": {},
   "outputs": [
    {
     "data": {
      "image/png": "[encoded data removed]",
      "text/plain": [
       "<Figure size 432x288 with 1 Axes>"
      ]
     },
     "metadata": {
      "needs_background": "light"
     },
     "output_type": "display_data"
    }
   ],
   "source": [
    "import matplotlib.pyplot as plt\n",
    "import numpy as np\n",
    "  \n",
    "# create data\n",
    "X = np.arange(6)\n",
    "y1= [accu_scr_lr,accu_scr_nb,accu_scr_dt,accu_scr_rf,accu_scr_knn,accu_scr_svm]\n",
    "    \n",
    "y2=[prec_scr_lr,prec_scr_nb,prec_scr_dt,prec_scr_rf,prec_scr_knn,prec_scr_svm]\n",
    "\n",
    "y3=[recall_scr_lr,recall_scr_nb,recall_scr_dt,recall_scr_rf,recall_scr_knn,recall_scr_svm]\n",
    "width=0.2\n",
    "  \n",
    "# plot data in grouped manner of bar type\n",
    "plt.bar(X-0.2, y1, width, color='cyan')\n",
    "plt.bar(X, y2, width, color='orange')\n",
    "plt.bar(X+0.2, y3, width, color='green')\n",
    "plt.xticks(X, [\"LR\",\"NB\",\"DT\",\"RF\",\"KNN\",\"SVM\"])\n",
    "plt.xlabel(\"Mdels\")\n",
    "plt.ylabel(\"Scores\")\n",
    "plt.legend([\"Accuuracy\",\"precision\",\"Recall\"], bbox_to_anchor =(1.3,1.03),ncol=1)\n",
    "plt.show()"
   ]
  },
  {
   "cell_type": "code",
   "execution_count": null,
   "metadata": {},
   "outputs": [],
   "source": []
  },
  {
   "cell_type": "code",
   "execution_count": null,
   "metadata": {},
   "outputs": [],
   "source": []
  }
 ],
 "metadata": {
  "kernelspec": {
   "display_name": "Python 3",
   "language": "python",
   "name": "python3"
  },
  "language_info": {
   "codemirror_mode": {
    "name": "ipython",
    "version": 3
   },
   "file_extension": ".py",
   "mimetype": "text/x-python",
   "name": "python",
   "nbconvert_exporter": "python",
   "pygments_lexer": "ipython3",
   "version": "3.8.3"
  }
 },
 "nbformat": 4,
 "nbformat_minor": 4
}
