{
 "cells": [
  {
   "cell_type": "code",
   "execution_count": 1,
   "metadata": {},
   "outputs": [],
   "source": [
    "\n",
    "import nltk\n"
   ]
  },
  {
   "cell_type": "code",
   "execution_count": 31,
   "metadata": {},
   "outputs": [],
   "source": [
    "from nltk.tokenize import word_tokenize \n",
    "from nltk.tokenize import sent_tokenize\n",
    "from nltk.stem import WordNetLemmatizer\n",
    "from nltk.corpus import stopwords"
   ]
  },
  {
   "cell_type": "code",
   "execution_count": 79,
   "metadata": {},
   "outputs": [],
   "source": [
    "data=\"Let hours say we need to get the Wikipedia search suggestions for a search title, Bill Cliton that is incorrectly entered or has a typo. The suggest() method returns suggestions related to the search query entered as a parameter to it, or it will return None if no suggestions were found.\""
   ]
  },
  {
   "cell_type": "code",
   "execution_count": 80,
   "metadata": {},
   "outputs": [
    {
     "data": {
      "text/plain": [
       "'Let hours say we need to get the Wikipedia search suggestions for a search title, Bill Cliton that is incorrectly entered or has a typo. The suggest() method returns suggestions related to the search query entered as a parameter to it, or it will return None if no suggestions were found.'"
      ]
     },
     "execution_count": 80,
     "metadata": {},
     "output_type": "execute_result"
    }
   ],
   "source": [
    "data"
   ]
  },
  {
   "cell_type": "code",
   "execution_count": 81,
   "metadata": {},
   "outputs": [],
   "source": [
    "wordtoken=word_tokenize(data)\n"
   ]
  },
  {
   "cell_type": "code",
   "execution_count": 82,
   "metadata": {},
   "outputs": [],
   "source": [
    "lematizer=WordNetLemmatizer()"
   ]
  },
  {
   "cell_type": "code",
   "execution_count": 83,
   "metadata": {},
   "outputs": [
    {
     "name": "stdout",
     "output_type": "stream",
     "text": [
      "Let\n",
      "hour\n",
      "say\n",
      "we\n",
      "need\n",
      "to\n",
      "get\n",
      "the\n",
      "Wikipedia\n",
      "search\n",
      "suggestion\n",
      "for\n",
      "a\n",
      "search\n",
      "title\n",
      ",\n",
      "Bill\n",
      "Cliton\n",
      "that\n",
      "is\n",
      "incorrectly\n",
      "entered\n",
      "or\n",
      "ha\n",
      "a\n",
      "typo\n",
      ".\n",
      "The\n",
      "suggest\n",
      "(\n",
      ")\n",
      "method\n",
      "return\n",
      "suggestion\n",
      "related\n",
      "to\n",
      "the\n",
      "search\n",
      "query\n",
      "entered\n",
      "a\n",
      "a\n",
      "parameter\n",
      "to\n",
      "it\n",
      ",\n",
      "or\n",
      "it\n",
      "will\n",
      "return\n",
      "None\n",
      "if\n",
      "no\n",
      "suggestion\n",
      "were\n",
      "found\n",
      ".\n"
     ]
    }
   ],
   "source": [
    "for words in wordtoken:\n",
    "        lema=lematizer.lemmatize(words)\n",
    "        print(lema)\n"
   ]
  },
  {
   "cell_type": "code",
   "execution_count": null,
   "metadata": {},
   "outputs": [],
   "source": [
    "\n",
    "        "
   ]
  },
  {
   "cell_type": "code",
   "execution_count": null,
   "metadata": {},
   "outputs": [],
   "source": []
  }
 ],
 "metadata": {
  "kernelspec": {
   "display_name": "Python 3",
   "language": "python",
   "name": "python3"
  },
  "language_info": {
   "codemirror_mode": {
    "name": "ipython",
    "version": 3
   },
   "file_extension": ".py",
   "mimetype": "text/x-python",
   "name": "python",
   "nbconvert_exporter": "python",
   "pygments_lexer": "ipython3",
   "version": "3.8.3"
  }
 },
 "nbformat": 4,
 "nbformat_minor": 4
}
